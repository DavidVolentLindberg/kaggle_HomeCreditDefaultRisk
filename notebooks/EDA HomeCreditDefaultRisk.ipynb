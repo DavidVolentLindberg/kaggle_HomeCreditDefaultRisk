{
 "cells": [
  {
   "cell_type": "markdown",
   "metadata": {
    "toc": true
   },
   "source": [
    "<h1>Table of Contents<span class=\"tocSkip\"></span></h1>\n",
    "<div class=\"toc\"><ul class=\"toc-item\"><li><span><a href=\"#Import-necessary-libraries/packages\" data-toc-modified-id=\"Import-necessary-libraries/packages-1\"><span class=\"toc-item-num\">1&nbsp;&nbsp;</span>Import necessary libraries/packages</a></span><ul class=\"toc-item\"><li><span><a href=\"#Libraries/packages\" data-toc-modified-id=\"Libraries/packages-1.1\"><span class=\"toc-item-num\">1.1&nbsp;&nbsp;</span>Libraries/packages</a></span></li><li><span><a href=\"#User-defined-functions\" data-toc-modified-id=\"User-defined-functions-1.2\"><span class=\"toc-item-num\">1.2&nbsp;&nbsp;</span>User-defined functions</a></span></li></ul></li><li><span><a href=\"#Import-data\" data-toc-modified-id=\"Import-data-2\"><span class=\"toc-item-num\">2&nbsp;&nbsp;</span>Import data</a></span></li><li><span><a href=\"#Data-understanding---EDA\" data-toc-modified-id=\"Data-understanding---EDA-3\"><span class=\"toc-item-num\">3&nbsp;&nbsp;</span>Data understanding - EDA</a></span><ul class=\"toc-item\"><li><span><a href=\"#Descriptive-statistics\" data-toc-modified-id=\"Descriptive-statistics-3.1\"><span class=\"toc-item-num\">3.1&nbsp;&nbsp;</span>Descriptive statistics</a></span></li><li><span><a href=\"#Data-visualizations\" data-toc-modified-id=\"Data-visualizations-3.2\"><span class=\"toc-item-num\">3.2&nbsp;&nbsp;</span>Data visualizations</a></span></li></ul></li></ul></div>"
   ]
  },
  {
   "cell_type": "markdown",
   "metadata": {},
   "source": [
    "## Import necessary libraries/packages"
   ]
  },
  {
   "cell_type": "markdown",
   "metadata": {
    "heading_collapsed": true
   },
   "source": [
    "### Libraries/packages"
   ]
  },
  {
   "cell_type": "code",
   "execution_count": 1,
   "metadata": {
    "ExecuteTime": {
     "end_time": "2018-07-06T12:47:04.781615Z",
     "start_time": "2018-07-06T12:47:00.587704Z"
    },
    "hidden": true
   },
   "outputs": [],
   "source": [
    "import numpy as np\n",
    "import pandas as pd\n",
    "import matplotlib.pyplot as plt\n",
    "import aictools.core as aic\n",
    "metrics = ['name', 'type', 'hist', 'min', 'max', 'mean', 'median', 'missing', 'unique']\n",
    "import seaborn as sns\n",
    "sns.set()\n",
    "\n",
    "%matplotlib inline"
   ]
  },
  {
   "cell_type": "code",
   "execution_count": 2,
   "metadata": {
    "ExecuteTime": {
     "end_time": "2018-07-06T12:47:05.464626Z",
     "start_time": "2018-07-06T12:47:04.783610Z"
    },
    "hidden": true
   },
   "outputs": [],
   "source": [
    "%load_ext autoreload\n",
    "%autoreload 2"
   ]
  },
  {
   "cell_type": "code",
   "execution_count": 3,
   "metadata": {
    "ExecuteTime": {
     "end_time": "2018-07-06T12:47:18.385567Z",
     "start_time": "2018-07-06T12:47:17.531507Z"
    },
    "hidden": true
   },
   "outputs": [],
   "source": [
    "# Set max number of columns to show when listing dataframe (e.g. by .head())\n",
    "maxcols_tovis = 50\n",
    "if pd.get_option(\"display.max_columns\")<maxcols_tovis:\n",
    "    pd.set_option(\"display.max_columns\", maxcols_tovis)"
   ]
  },
  {
   "cell_type": "markdown",
   "metadata": {
    "heading_collapsed": true
   },
   "source": [
    "### User-defined functions"
   ]
  },
  {
   "cell_type": "code",
   "execution_count": 4,
   "metadata": {
    "ExecuteTime": {
     "end_time": "2018-07-06T12:48:12.051622Z",
     "start_time": "2018-07-06T12:48:11.322637Z"
    },
    "hidden": true
   },
   "outputs": [],
   "source": [
    "def plot_barcharts_for_columns(df,cols,maxvals=15, rowheight=5):\n",
    "    nrows, ncols = int(np.ceil(len(cols)/2)), 2\n",
    "    nplots = len(cols)\n",
    "    fig, ax = plt.subplots(figsize=(20,rowheight*nrows))\n",
    "    i = 1\n",
    "    for col in cols:  \n",
    "        temp_data = df[col].dropna()\n",
    "        missing_perc = 100*(1-len(temp_data)/len(df[col]))\n",
    "        ax = plt.subplot(nrows,ncols,i)\n",
    "        counts_train = temp_data.value_counts().sort_values()\n",
    "        if len(counts_train)>maxvals:\n",
    "            counts_train = counts_train[-maxvals:]\n",
    "        y_postrain = np.array(list(counts_train.index))\n",
    "        ax.barh(np.arange(1,len(counts_train)+1), counts_train, color='blue', align='center', height=0.4)\n",
    "        ax.set_yticks(np.arange(1,len(counts_train)+1))\n",
    "        ax.set_yticklabels(y_postrain)\n",
    "        ax.set_title('%s (%.2f%s missing)'%(col,missing_perc,'%'), fontsize=20)\n",
    "        ax.set_ylabel('')\n",
    "        aic.jupyter.ax_properties(ax)\n",
    "        i += 1\n",
    "    plt.tight_layout(pad=0.4, w_pad=0.5, h_pad=3.0)\n",
    "    \n",
    "def plot_histograms_for_columns(df,cols,rowheight=5):\n",
    "    nrows, ncols = len(cols), 2\n",
    "    nplots = len(cols)\n",
    "    fig, ax = plt.subplots(figsize=(20,rowheight*nrows))\n",
    "    i = 1\n",
    "    for col in cols:\n",
    "        temp_data = df[col].dropna()\n",
    "        missing_perc = 100*(1-len(temp_data)/len(df[col]))\n",
    "        ax = plt.subplot(nrows,ncols,i)\n",
    "        ax.hist(temp_data, bins=50)\n",
    "        ax.set_title('%s (%.2f%s missing)'%(col,missing_perc,'%'), fontsize=20)\n",
    "        ax.set_ylabel('')\n",
    "        aic.jupyter.ax_properties(ax)\n",
    "        i += 1\n",
    "        ax = plt.subplot(nrows,ncols,i)\n",
    "        ax.hist(np.log(temp_data[temp_data>0]), bins=50)\n",
    "        missing_perc = 100*(1-sum(temp_data>0)/len(df[col]))\n",
    "        ax.set_title('log of %s (%.2f%s missing or <=0)'%(col,missing_perc,'%'), fontsize=20)\n",
    "        ax.set_ylabel('')\n",
    "        aic.jupyter.ax_properties(ax)\n",
    "        i +=1\n",
    "    plt.tight_layout(pad=0.4, w_pad=0.5, h_pad=3.0)"
   ]
  },
  {
   "cell_type": "markdown",
   "metadata": {},
   "source": [
    "## Import data"
   ]
  },
  {
   "cell_type": "code",
   "execution_count": null,
   "metadata": {},
   "outputs": [],
   "source": []
  },
  {
   "cell_type": "markdown",
   "metadata": {},
   "source": [
    "## Data understanding - EDA"
   ]
  },
  {
   "cell_type": "markdown",
   "metadata": {},
   "source": [
    "### Descriptive statistics"
   ]
  },
  {
   "cell_type": "markdown",
   "metadata": {},
   "source": [
    "### Data visualizations"
   ]
  },
  {
   "cell_type": "code",
   "execution_count": null,
   "metadata": {},
   "outputs": [],
   "source": []
  }
 ],
 "metadata": {
  "kernelspec": {
   "display_name": "Python 3",
   "language": "python",
   "name": "python3"
  },
  "language_info": {
   "codemirror_mode": {
    "name": "ipython",
    "version": 3
   },
   "file_extension": ".py",
   "mimetype": "text/x-python",
   "name": "python",
   "nbconvert_exporter": "python",
   "pygments_lexer": "ipython3",
   "version": "3.6.4"
  },
  "toc": {
   "base_numbering": 1,
   "nav_menu": {},
   "number_sections": true,
   "sideBar": true,
   "skip_h1_title": true,
   "title_cell": "Table of Contents",
   "title_sidebar": "Contents",
   "toc_cell": true,
   "toc_position": {},
   "toc_section_display": true,
   "toc_window_display": true
  }
 },
 "nbformat": 4,
 "nbformat_minor": 2
}
